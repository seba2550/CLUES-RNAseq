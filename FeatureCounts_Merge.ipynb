{
 "cells": [
  {
   "cell_type": "markdown",
   "id": "20cf07b1",
   "metadata": {},
   "source": [
    "### Change into the directory with the counts files"
   ]
  },
  {
   "cell_type": "code",
   "execution_count": 1,
   "id": "c50b0b52",
   "metadata": {},
   "outputs": [
    {
     "name": "stdout",
     "output_type": "stream",
     "text": [
      "C:\\Users\\Sebastian\\Documents\\UCSF\\Sirota Lab Rotation\\SLE_RNA-seq_Counts\n"
     ]
    }
   ],
   "source": [
    "%cd SLE_RNA-seq_Counts"
   ]
  },
  {
   "cell_type": "markdown",
   "id": "b9279788",
   "metadata": {},
   "source": [
    "### From the bioinfokit library, import the featureCount merge function. This'll create a csv file with a column for each sample, and a row for each gene"
   ]
  },
  {
   "cell_type": "code",
   "execution_count": 2,
   "id": "440a7fb1",
   "metadata": {},
   "outputs": [],
   "source": [
    "from bioinfokit.analys import HtsAna"
   ]
  },
  {
   "cell_type": "code",
   "execution_count": 3,
   "id": "09167e99",
   "metadata": {},
   "outputs": [],
   "source": [
    "HtsAna.merge_featureCount()"
   ]
  },
  {
   "cell_type": "code",
   "execution_count": null,
   "id": "f04d8d43",
   "metadata": {},
   "outputs": [],
   "source": []
  }
 ],
 "metadata": {
  "kernelspec": {
   "display_name": "Python 3",
   "language": "python",
   "name": "python3"
  },
  "language_info": {
   "codemirror_mode": {
    "name": "ipython",
    "version": 3
   },
   "file_extension": ".py",
   "mimetype": "text/x-python",
   "name": "python",
   "nbconvert_exporter": "python",
   "pygments_lexer": "ipython3",
   "version": "3.8.8"
  }
 },
 "nbformat": 4,
 "nbformat_minor": 5
}
